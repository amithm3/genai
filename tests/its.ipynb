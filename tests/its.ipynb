{
 "cells": [
  {
   "cell_type": "code",
   "execution_count": 1,
   "id": "initial_id",
   "metadata": {
    "collapsed": true,
    "ExecuteTime": {
     "end_time": "2023-09-24T16:42:46.847175627Z",
     "start_time": "2023-09-24T16:42:46.388261389Z"
    }
   },
   "outputs": [],
   "source": [
    "%load_ext autoreload\n",
    "%autoreload 2\n",
    "%matplotlib inline"
   ]
  },
  {
   "cell_type": "code",
   "execution_count": 5,
   "outputs": [],
   "source": [
    "from gan import CycleGANConfig\n",
    "from __datasets__ import ITSDataset, DenseHazeCVPR2019Dataset\n",
    "from utils.datasets import DomainDataset"
   ],
   "metadata": {
    "collapsed": false,
    "ExecuteTime": {
     "end_time": "2023-09-24T16:52:16.038155780Z",
     "start_time": "2023-09-24T16:52:15.939769472Z"
    }
   },
   "id": "9b4e4ac3eb654788"
  },
  {
   "cell_type": "code",
   "execution_count": 16,
   "outputs": [],
   "source": [
    "config1 = CycleGANConfig(\n",
    "    \"/home/amithm3/.ml_datasets/its/\",\n",
    "    \"HazeMaze\",\n",
    "    \"v1\",\n",
    "    image_shape=(3, 64, 64),\n",
    "    latent_dim=64,\n",
    "    dropout=0,\n",
    "    num_epochs=1, batch_size=8,\n",
    "    lr=2e-4,\n",
    "    betas=(0.5, 0.999),\n",
    "    lambdas=(10, 0.5),\n",
    "    residuals=5,\n",
    "    blocks=(64, 128, 256, 512),\n",
    "    writer=True,\n",
    ")\n",
    "config2 = CycleGANConfig(\n",
    "    \"/home/amithm3/.ml_datasets/dense_haze_cvpr_2019/\",\n",
    "    \"HazeMaze\",\n",
    "    \"v1\",\n",
    "    image_shape=(3, 128, 128),\n",
    "    latent_dim=64,\n",
    "    dropout=0.3,\n",
    "    num_epochs=1, batch_size=8,\n",
    "    lr=2e-4,\n",
    "    betas=(0.5, 0.999),\n",
    "    lambdas=(10, 0.5),\n",
    "    residuals=5,\n",
    "    blocks=(64, 128, 256, 512),\n",
    "    writer=True,\n",
    ")"
   ],
   "metadata": {
    "collapsed": false,
    "ExecuteTime": {
     "end_time": "2023-09-24T16:55:49.499540242Z",
     "start_time": "2023-09-24T16:55:49.354632893Z"
    }
   },
   "id": "e44b42d1f40de46a"
  },
  {
   "cell_type": "code",
   "execution_count": 17,
   "outputs": [
    {
     "data": {
      "text/plain": "(2798, 55)"
     },
     "execution_count": 17,
     "metadata": {},
     "output_type": "execute_result"
    }
   ],
   "source": [
    "ds1 = DomainDataset(\n",
    "    ITSDataset(config1.dataset_path, SET=\"hazy\", download=True, image_transform=config1.transforms, sub_sample=0.2),\n",
    "    ITSDataset(config1.dataset_path, SET=\"clear\", download=True, image_transform=config1.transforms, sub_sample=1)\n",
    ")\n",
    "ds2 = DomainDataset(\n",
    "    DenseHazeCVPR2019Dataset(config2.dataset_path, SET=\"hazy\", download=True, image_transform=config2.transforms, sub_sample=1),\n",
    "    DenseHazeCVPR2019Dataset(config2.dataset_path, SET=\"GT\", download=True, image_transform=config2.transforms, sub_sample=1)\n",
    ")\n",
    "len(ds1), len(ds2)"
   ],
   "metadata": {
    "collapsed": false,
    "ExecuteTime": {
     "end_time": "2023-09-24T16:55:59.942317435Z",
     "start_time": "2023-09-24T16:55:59.638487705Z"
    }
   },
   "id": "475f77db4bf15b61"
  },
  {
   "cell_type": "code",
   "execution_count": null,
   "outputs": [],
   "source": [],
   "metadata": {
    "collapsed": false
   },
   "id": "eada213d5ec3a94a"
  }
 ],
 "metadata": {
  "kernelspec": {
   "display_name": "Python 3",
   "language": "python",
   "name": "python3"
  },
  "language_info": {
   "codemirror_mode": {
    "name": "ipython",
    "version": 2
   },
   "file_extension": ".py",
   "mimetype": "text/x-python",
   "name": "python",
   "nbconvert_exporter": "python",
   "pygments_lexer": "ipython2",
   "version": "2.7.6"
  }
 },
 "nbformat": 4,
 "nbformat_minor": 5
}
