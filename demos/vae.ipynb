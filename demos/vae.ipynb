{
 "cells": [
  {
   "cell_type": "code",
   "execution_count": null,
   "id": "initial_id",
   "metadata": {
    "collapsed": true
   },
   "outputs": [],
   "source": [
    "%load_ext autoreload\n",
    "%autoreload 2\n",
    "%matplotlib inline"
   ]
  },
  {
   "cell_type": "code",
   "execution_count": null,
   "outputs": [],
   "source": [
    "import torch\n",
    "from torch import optim\n",
    "from torchvision import models\n",
    "from torchvision.utils import make_grid, save_image\n",
    "\n",
    "from gan import CycleGANConfig, ConvGenerator, ConvDiscriminator, PerceptualLoss, get_cycle_gan_trainer\n",
    "from __datasets__ import ITSDataset, DenseHazeCVPR2019Dataset\n",
    "from utils.datasets import DomainDataset\n",
    "from utils.benchmark import train, test\n",
    "from utils.display import display_images\n",
    "from utils.checkpoints import save_checkpoint, load_checkpoint"
   ],
   "metadata": {
    "collapsed": false
   },
   "id": "8afbed1f8411027c"
  },
  {
   "cell_type": "code",
   "execution_count": null,
   "outputs": [],
   "source": [],
   "metadata": {
    "collapsed": false
   },
   "id": "2689294f4dc87044"
  }
 ],
 "metadata": {
  "kernelspec": {
   "display_name": "Python 3",
   "language": "python",
   "name": "python3"
  },
  "language_info": {
   "codemirror_mode": {
    "name": "ipython",
    "version": 2
   },
   "file_extension": ".py",
   "mimetype": "text/x-python",
   "name": "python",
   "nbconvert_exporter": "python",
   "pygments_lexer": "ipython2",
   "version": "2.7.6"
  }
 },
 "nbformat": 4,
 "nbformat_minor": 5
}
